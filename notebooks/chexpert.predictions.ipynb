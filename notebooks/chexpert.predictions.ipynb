{
 "cells": [
  {
   "cell_type": "code",
   "execution_count": null,
   "metadata": {},
   "outputs": [],
   "source": [
    "import os\n",
    "import pandas as pd\n",
    "import numpy as np\n",
    "import matplotlib.pyplot as plt\n",
    "from sklearn.metrics import roc_curve, auc, roc_auc_score, recall_score, accuracy_score, confusion_matrix"
   ]
  },
  {
   "cell_type": "code",
   "execution_count": null,
   "metadata": {},
   "outputs": [],
   "source": [
    "meta_file = f\"../datafiles/chexpert/chexpert.sample_128.test.G_filtered_Frontal_bs_128_lr_0.0002_nz_100_disc_0.1_sim_4.0_prev_0.3_pred_0.3_cyc_1.csv\"\n",
    "\n",
    "data_dir_race = f\"../prediction/chexpert/race/pred_only/densenet-128.test.G_{meta_file.split('.G_')[-1].split('.csv')[0]}/\"\n",
    "data_dir_sex = f\"../prediction/chexpert/sex/pred_only/densenet-128.test.G_{meta_file.split('.G_')[-1].split('.csv')[0]}/\"\n",
    "data_dir_disease = f\"../prediction/chexpert/disease/pred_only/densenet-128.test.G_{meta_file.split('.G_')[-1].split('.csv')[0]}/\""
   ]
  },
  {
   "cell_type": "markdown",
   "metadata": {},
   "source": [
    "# Prediction performance evaluation"
   ]
  },
  {
   "cell_type": "code",
   "execution_count": null,
   "metadata": {},
   "outputs": [],
   "source": [
    "df = pd.read_csv(meta_file)\n",
    "\n",
    "white = \"White\"\n",
    "asian = \"Asian\"\n",
    "black = \"Black\""
   ]
  },
  {
   "cell_type": "markdown",
   "metadata": {},
   "source": [
    "## Disease classification (multi-label)"
   ]
  },
  {
   "cell_type": "code",
   "execution_count": null,
   "metadata": {},
   "outputs": [],
   "source": [
    "cnn_pred_disease = pd.read_csv(data_dir_disease + \"predictions.test.csv\")"
   ]
  },
  {
   "cell_type": "code",
   "execution_count": null,
   "metadata": {},
   "outputs": [],
   "source": [
    "labels = [\n",
    "    \"No Finding\",\n",
    "    \"Enlarged Cardiomediastinum\",\n",
    "    \"Cardiomegaly\",\n",
    "    \"Lung Opacity\",\n",
    "    \"Lung Lesion\",\n",
    "    \"Edema\",\n",
    "    \"Consolidation\",\n",
    "    \"Pneumonia\",\n",
    "    \"Atelectasis\",\n",
    "    \"Pneumothorax\",\n",
    "    \"Pleural Effusion\",\n",
    "    \"Pleural Other\",\n",
    "    \"Fracture\",\n",
    "    \"Support Devices\",\n",
    "]"
   ]
  },
  {
   "cell_type": "code",
   "execution_count": null,
   "metadata": {},
   "outputs": [],
   "source": [
    "label = 0  # No finding\n",
    "# label = 10 # Pleural effusion\n",
    "print(labels[label])"
   ]
  },
  {
   "cell_type": "code",
   "execution_count": null,
   "metadata": {},
   "outputs": [],
   "source": [
    "cnn_pred_disease[\"race\"] = df[\"race\"]\n",
    "cnn_pred_disease[\"sex\"] = df[\"sex\"]\n",
    "cnn_pred_disease[\"age\"] = df[\"age\"]\n",
    "cnn_pred_disease[labels[label]] = df[labels[label]]\n",
    "\n",
    "# subgroups\n",
    "cnn_pred_m = cnn_pred_disease[cnn_pred_disease[\"sex\"] == \"Male\"].copy()\n",
    "cnn_pred_f = cnn_pred_disease[cnn_pred_disease[\"sex\"] == \"Female\"].copy()\n",
    "cnn_pred_w = cnn_pred_disease[cnn_pred_disease[\"race\"] == white].copy()\n",
    "cnn_pred_a = cnn_pred_disease[cnn_pred_disease[\"race\"] == asian].copy()\n",
    "cnn_pred_b = cnn_pred_disease[cnn_pred_disease[\"race\"] == black].copy()"
   ]
  },
  {
   "cell_type": "code",
   "execution_count": null,
   "metadata": {},
   "outputs": [],
   "source": [
    "preds = cnn_pred_disease[\"class_\" + str(label)]\n",
    "targets = np.array(cnn_pred_disease[\"target_\" + str(label)])\n",
    "\n",
    "preds_m = cnn_pred_m[\"class_\" + str(label)]\n",
    "targets_m = np.array(cnn_pred_m[\"target_\" + str(label)])\n",
    "\n",
    "preds_f = cnn_pred_f[\"class_\" + str(label)]\n",
    "targets_f = np.array(cnn_pred_f[\"target_\" + str(label)])\n",
    "\n",
    "preds_w = cnn_pred_w[\"class_\" + str(label)]\n",
    "targets_w = np.array(cnn_pred_w[\"target_\" + str(label)])\n",
    "\n",
    "preds_a = cnn_pred_a[\"class_\" + str(label)]\n",
    "targets_a = np.array(cnn_pred_a[\"target_\" + str(label)])\n",
    "\n",
    "preds_b = cnn_pred_b[\"class_\" + str(label)]\n",
    "targets_b = np.array(cnn_pred_b[\"target_\" + str(label)])"
   ]
  },
  {
   "cell_type": "code",
   "execution_count": null,
   "metadata": {},
   "outputs": [],
   "source": [
    "aucs = [\n",
    "    round(\n",
    "        roc_auc_score(\n",
    "            cnn_pred_disease[\"target_\" + str(i)], cnn_pred_disease[\"class_\" + str(i)]\n",
    "        ),\n",
    "        4,\n",
    "    )\n",
    "    if cnn_pred_disease[\"target_\" + str(i)].sum() != 0\n",
    "    else np.nan\n",
    "    for i in range(14)\n",
    "]\n",
    "aucs_l = {l: a for l, a in zip(labels, aucs)}\n",
    "myKeys = list(aucs_l.keys())\n",
    "myKeys.sort()\n",
    "aucs_l = {i: aucs_l[i] for i in myKeys}\n",
    "print(f\"ALL AUC: {aucs_l}\")\n",
    "print(f\"ALL AUC average: {round(np.nanmean(aucs),4)}\")"
   ]
  },
  {
   "cell_type": "code",
   "execution_count": null,
   "metadata": {},
   "outputs": [],
   "source": [
    "target_fpr = 0.2\n",
    "\n",
    "fpr, tpr, thres = roc_curve(targets, preds)\n",
    "fpr_w, tpr_w, thres_w = roc_curve(targets_w, preds_w)\n",
    "fpr_a, tpr_a, thres_a = roc_curve(targets_a, preds_a)\n",
    "fpr_b, tpr_b, thres_b = roc_curve(targets_b, preds_b)\n",
    "fpr_m, tpr_m, thres_m = roc_curve(targets_m, preds_m)\n",
    "fpr_f, tpr_f, thres_f = roc_curve(targets_f, preds_f)\n",
    "\n",
    "roc_auc = auc(fpr, tpr)\n",
    "roc_auc_w = auc(fpr_w, tpr_w)\n",
    "roc_auc_a = auc(fpr_a, tpr_a)\n",
    "roc_auc_b = auc(fpr_b, tpr_b)\n",
    "roc_auc_m = auc(fpr_m, tpr_m)\n",
    "roc_auc_f = auc(fpr_f, tpr_f)\n",
    "\n",
    "# global threshold\n",
    "op = thres[np.argmin(np.abs(fpr - target_fpr))]\n",
    "\n",
    "print(\"All \\t Threshold %0.4f\" % op)"
   ]
  },
  {
   "cell_type": "code",
   "execution_count": null,
   "metadata": {},
   "outputs": [],
   "source": [
    "# APPLYING GLOBAL THRESHOLD\n",
    "fpr_t = 1 - recall_score(targets, preds >= op, pos_label=0)\n",
    "tpr_t = recall_score(targets, preds >= op, pos_label=1)\n",
    "\n",
    "fpr_t_w = 1 - recall_score(targets_w, preds_w >= op, pos_label=0)\n",
    "tpr_t_w = recall_score(targets_w, preds_w >= op, pos_label=1)\n",
    "\n",
    "fpr_t_a = 1 - recall_score(targets_a, preds_a >= op, pos_label=0)\n",
    "tpr_t_a = recall_score(targets_a, preds_a >= op, pos_label=1)\n",
    "\n",
    "fpr_t_b = 1 - recall_score(targets_b, preds_b >= op, pos_label=0)\n",
    "tpr_t_b = recall_score(targets_b, preds_b >= op, pos_label=1)\n",
    "\n",
    "fpr_t_f = 1 - recall_score(targets_f, preds_f >= op, pos_label=0)\n",
    "tpr_t_f = recall_score(targets_f, preds_f >= op, pos_label=1)\n",
    "\n",
    "fpr_t_m = 1 - recall_score(targets_m, preds_m >= op, pos_label=0)\n",
    "tpr_t_m = recall_score(targets_m, preds_m >= op, pos_label=1)"
   ]
  },
  {
   "cell_type": "code",
   "execution_count": null,
   "metadata": {},
   "outputs": [],
   "source": [
    "fig, ax = plt.subplots(figsize=(7, 4))\n",
    "plt.plot(fpr_w, tpr_w, lw=1.5, alpha=0.8, label=\"White AUC=%0.2f\" % roc_auc_w)\n",
    "plt.plot(fpr_a, tpr_a, lw=1.5, alpha=0.8, label=\"Asian AUC=%0.2f\" % roc_auc_a)\n",
    "plt.plot(fpr_b, tpr_b, lw=1.5, alpha=0.8, label=\"Black AUC=%0.2f\" % roc_auc_b)\n",
    "plt.plot(fpr_f, tpr_f, lw=1.5, alpha=0.8, label=\"Female AUC=%0.2f\" % roc_auc_f)\n",
    "plt.plot(fpr_m, tpr_m, lw=1.5, alpha=0.8, label=\"Male AUC=%0.2f\" % roc_auc_m)\n",
    "\n",
    "plt.gca().set_prop_cycle(None)\n",
    "\n",
    "plt.plot(\n",
    "    fpr_t_w,\n",
    "    tpr_t_w,\n",
    "    \"X\",\n",
    "    alpha=0.8,\n",
    "    markersize=10,\n",
    "    label=\"TPR=%0.2f FPR=%0.2f\" % (tpr_t_w, fpr_t_w),\n",
    ")\n",
    "plt.plot(\n",
    "    fpr_t_a,\n",
    "    tpr_t_a,\n",
    "    \"X\",\n",
    "    alpha=0.8,\n",
    "    markersize=10,\n",
    "    label=\"TPR=%0.2f FPR=%0.2f\" % (tpr_t_a, fpr_t_a),\n",
    ")\n",
    "plt.plot(\n",
    "    fpr_t_b,\n",
    "    tpr_t_b,\n",
    "    \"X\",\n",
    "    alpha=0.8,\n",
    "    markersize=10,\n",
    "    label=\"TPR=%0.2f FPR=%0.2f\" % (tpr_t_b, fpr_t_b),\n",
    ")\n",
    "plt.plot(\n",
    "    fpr_t_f,\n",
    "    tpr_t_f,\n",
    "    \"X\",\n",
    "    alpha=0.8,\n",
    "    markersize=10,\n",
    "    label=\"TPR=%0.2f FPR=%0.2f\" % (tpr_t_f, fpr_t_f),\n",
    ")\n",
    "plt.plot(\n",
    "    fpr_t_m,\n",
    "    tpr_t_m,\n",
    "    \"X\",\n",
    "    alpha=0.8,\n",
    "    markersize=10,\n",
    "    label=\"TPR=%0.2f FPR=%0.2f\" % (tpr_t_m, fpr_t_m),\n",
    ")\n",
    "\n",
    "plt.legend(loc=\"lower right\", fontsize=12, ncol=2)\n",
    "title = labels[label] + \" - Original Test-set\"\n",
    "ax.plot([0, 1], [0, 1], linestyle=\"--\", lw=1.5, color=\"k\", label=\"Chance\", alpha=0.8)\n",
    "plt.xlabel(\"False Positive Rate\", fontsize=14)\n",
    "plt.ylabel(\"True Positive Rate\", fontsize=14)\n",
    "plt.title(title, fontsize=14)\n",
    "ax.set(xlim=[-0.05, 1.05], ylim=[-0.05, 1.05])\n",
    "ax.spines[[\"right\", \"top\"]].set_visible(False)\n",
    "plt.show()\n",
    "# fig.savefig(title + '.png', bbox_inches='tight', dpi=300)\n",
    "\n",
    "print(\"All\\tTPR %0.2f | FPR %0.2f | AUC %0.2f\" % (tpr_t, fpr_t, roc_auc))\n",
    "print(\"White\\tTPR %0.2f | FPR %0.2f | AUC %0.2f\" % (tpr_t_w, fpr_t_w, roc_auc_w))\n",
    "print(\"Asian\\tTPR %0.2f | FPR %0.2f | AUC %0.2f\" % (tpr_t_a, fpr_t_a, roc_auc_a))\n",
    "print(\"Black\\tTPR %0.2f | FPR %0.2f | AUC %0.2f\" % (tpr_t_b, fpr_t_b, roc_auc_b))\n",
    "print(\"Female\\tTPR %0.2f | FPR %0.2f | AUC %0.2f\" % (tpr_t_f, fpr_t_f, roc_auc_f))\n",
    "print(\"Male\\tTPR %0.2f | FPR %0.2f | AUC %0.2f\" % (tpr_t_m, fpr_t_m, roc_auc_m))"
   ]
  },
  {
   "cell_type": "markdown",
   "metadata": {},
   "source": [
    "## Race classification"
   ]
  },
  {
   "cell_type": "code",
   "execution_count": null,
   "metadata": {},
   "outputs": [],
   "source": [
    "#white, 0\n",
    "#asian, \"race_label\"] = 1\n",
    "#black, \"race_label\"] = 2"
   ]
  },
  {
   "cell_type": "code",
   "execution_count": null,
   "metadata": {},
   "outputs": [],
   "source": [
    "cnn_pred_race = pd.read_csv(data_dir_race + \"predictions.test.csv\")"
   ]
  },
  {
   "cell_type": "code",
   "execution_count": null,
   "metadata": {},
   "outputs": [],
   "source": [
    "preds_race = np.stack(\n",
    "    [cnn_pred_race[\"class_0\"], cnn_pred_race[\"class_1\"], cnn_pred_race[\"class_2\"]]\n",
    ").transpose()\n",
    "targets_race = np.array(cnn_pred_race[\"target\"])"
   ]
  },
  {
   "cell_type": "code",
   "execution_count": null,
   "metadata": {},
   "outputs": [],
   "source": [
    "print(\"Mean probability W, A, B\")\n",
    "[round(i, 3) for i in np.mean(preds_race, axis=0)]"
   ]
  },
  {
   "cell_type": "code",
   "execution_count": null,
   "metadata": {},
   "outputs": [],
   "source": [
    "y_true = targets_race\n",
    "y_pred = np.argmax(preds_race, axis=1)\n",
    "matrix = confusion_matrix(y_true, y_pred)\n",
    "print(\"Predicted W, A, B in columns, true in rows\")\n",
    "print(matrix)\n",
    "print(np.sum(matrix, axis=0))\n",
    "print(np.sum(matrix, axis=1))"
   ]
  },
  {
   "cell_type": "code",
   "execution_count": null,
   "metadata": {},
   "outputs": [],
   "source": [
    "print(\"Accuracy W, A, B\")\n",
    "matrix.diagonal()/matrix.sum(axis=1)"
   ]
  },
  {
   "cell_type": "code",
   "execution_count": null,
   "metadata": {},
   "outputs": [],
   "source": [
    "print(\"Random guessing W, A, B\")\n",
    "[round(np.sum(targets_race==i)/len(targets_race),4) for i in range(3)]"
   ]
  },
  {
   "cell_type": "code",
   "execution_count": null,
   "metadata": {},
   "outputs": [],
   "source": [
    "# WHITE\n",
    "pos_label = 0\n",
    "y = np.array(targets_race)\n",
    "y[targets_race != pos_label] = 0\n",
    "y[targets_race == pos_label] = 1\n",
    "fpr_w, tpr_w, _ = roc_curve(y, preds_race[:, pos_label])\n",
    "roc_auc_w = auc(fpr_w, tpr_w)\n",
    "\n",
    "# ASIAN\n",
    "pos_label = 1\n",
    "y = np.array(targets_race)\n",
    "y[targets_race != pos_label] = 0\n",
    "y[targets_race == pos_label] = 1\n",
    "fpr_a, tpr_a, _ = roc_curve(y, preds_race[:, pos_label])\n",
    "roc_auc_a = auc(fpr_a, tpr_a)\n",
    "\n",
    "# BLACK\n",
    "pos_label = 2\n",
    "y = np.array(targets_race)\n",
    "y[targets_race != pos_label] = 0\n",
    "y[targets_race == pos_label] = 1\n",
    "fpr_b, tpr_b, _ = roc_curve(y, preds_race[:, pos_label])\n",
    "roc_auc_b = auc(fpr_b, tpr_b)\n",
    "\n",
    "fig, ax = plt.subplots(figsize=(7, 4))\n",
    "plt.plot(fpr_w, tpr_w, lw=1.5, alpha=0.8, label=\"White AUC=%0.2f\" % roc_auc_w)\n",
    "plt.plot(fpr_a, tpr_a, lw=1.5, alpha=0.8, label=\"Asian AUC=%0.2f\" % roc_auc_a)\n",
    "plt.plot(fpr_b, tpr_b, lw=1.5, alpha=0.8, label=\"Black AUC=%0.2f\" % roc_auc_b)\n",
    "ax.plot([0, 1], [0, 1], linestyle=\"--\", lw=1.5, color=\"k\", label=\"Chance\", alpha=0.8)\n",
    "plt.xlabel(\"False Positive Rate\", fontsize=14)\n",
    "plt.ylabel(\"True Positive Rate\", fontsize=14)\n",
    "plt.legend(loc=\"lower right\", fontsize=12)\n",
    "plt.title(\"Race Classification\", fontsize=14)\n",
    "ax.set(xlim=[-0.05, 1.05], ylim=[-0.05, 1.05])\n",
    "ax.spines[[\"right\", \"top\"]].set_visible(False)\n",
    "plt.show()\n",
    "\n",
    "# fig.savefig(\"CNN-race.png\", bbox_inches='tight', dpi=300)"
   ]
  },
  {
   "cell_type": "markdown",
   "metadata": {},
   "source": [
    "## Sex classification"
   ]
  },
  {
   "cell_type": "code",
   "execution_count": null,
   "metadata": {},
   "outputs": [],
   "source": [
    "cnn_pred_sex = pd.read_csv(data_dir_sex + \"predictions.test.csv\")\n",
    "\n",
    "# for subgroup analysis\n",
    "cnn_pred_sex[\"race\"] = df[\"race\"]\n",
    "cnn_pred_sex_w = cnn_pred_sex[cnn_pred_sex[\"race\"] == white]\n",
    "cnn_pred_sex_a = cnn_pred_sex[cnn_pred_sex[\"race\"] == asian]\n",
    "cnn_pred_sex_b = cnn_pred_sex[cnn_pred_sex[\"race\"] == black]"
   ]
  },
  {
   "cell_type": "code",
   "execution_count": null,
   "metadata": {},
   "outputs": [],
   "source": [
    "preds_sex = np.stack([cnn_pred_sex_w[\"class_0\"], cnn_pred_sex_w[\"class_1\"]]).transpose()\n",
    "targets_sex = np.array(cnn_pred_sex_w[\"target\"])\n",
    "fpr_w, tpr_w, _ = roc_curve(targets_sex, preds_sex[:, 1])\n",
    "roc_auc_w = auc(fpr_w, tpr_w)\n",
    "\n",
    "preds_sex = np.stack([cnn_pred_sex_a[\"class_0\"], cnn_pred_sex_a[\"class_1\"]]).transpose()\n",
    "targets_sex = np.array(cnn_pred_sex_a[\"target\"])\n",
    "fpr_a, tpr_a, _ = roc_curve(targets_sex, preds_sex[:, 1])\n",
    "roc_auc_a = auc(fpr_a, tpr_a)\n",
    "\n",
    "preds_sex = np.stack([cnn_pred_sex_b[\"class_0\"], cnn_pred_sex_b[\"class_1\"]]).transpose()\n",
    "targets_sex = np.array(cnn_pred_sex_b[\"target\"])\n",
    "fpr_b, tpr_b, _ = roc_curve(targets_sex, preds_sex[:, 1])\n",
    "roc_auc_b = auc(fpr_b, tpr_b)"
   ]
  },
  {
   "cell_type": "code",
   "execution_count": null,
   "metadata": {},
   "outputs": [],
   "source": [
    "fig, ax = plt.subplots()\n",
    "plt.plot(fpr_w, tpr_w, lw=1.5, alpha=0.8, label=\"White AUC=%0.2f\" % roc_auc_w)\n",
    "plt.plot(fpr_a, tpr_a, lw=1.5, alpha=0.8, label=\"Asian AUC=%0.2f\" % roc_auc_a)\n",
    "plt.plot(fpr_b, tpr_b, lw=1.5, alpha=0.8, label=\"Black AUC=%0.2f\" % roc_auc_b)\n",
    "ax.plot([0, 1], [0, 1], linestyle=\"--\", lw=1.5, color=\"k\", label=\"Chance\", alpha=0.8)\n",
    "plt.xlabel(\"False Positive Rate\", fontsize=14)\n",
    "plt.ylabel(\"True Positive Rate\", fontsize=14)\n",
    "plt.legend(loc=\"lower right\", fontsize=12)\n",
    "plt.title(\"Sex Classification\", fontsize=14)\n",
    "ax.set(xlim=[-0.05, 1.05], ylim=[-0.05, 1.05])\n",
    "ax.spines[[\"right\", \"top\"]].set_visible(False)\n",
    "# fig.savefig(\"CNN-sex.png\", bbox_inches='tight', dpi=300)"
   ]
  },
  {
   "cell_type": "code",
   "execution_count": null,
   "metadata": {},
   "outputs": [],
   "source": []
  }
 ],
 "metadata": {
  "kernelspec": {
   "display_name": "ssl_benchmark_disease_diagnosis-TH-5Rskg",
   "language": "python",
   "name": "python3"
  },
  "language_info": {
   "codemirror_mode": {
    "name": "ipython",
    "version": 3
   },
   "file_extension": ".py",
   "mimetype": "text/x-python",
   "name": "python",
   "nbconvert_exporter": "python",
   "pygments_lexer": "ipython3",
   "version": "3.9.16"
  },
  "vscode": {
   "interpreter": {
    "hash": "118298914120c3bed14e6c153d818e4458def201929d094e31dfc514a45929f4"
   }
  }
 },
 "nbformat": 4,
 "nbformat_minor": 4
}
