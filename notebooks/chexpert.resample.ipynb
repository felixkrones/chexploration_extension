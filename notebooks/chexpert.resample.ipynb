{
 "cells": [
  {
   "cell_type": "code",
   "execution_count": 1,
   "metadata": {},
   "outputs": [],
   "source": [
    "import os\n",
    "import pandas as pd\n",
    "import numpy as np\n",
    "import torch\n",
    "import matplotlib.pyplot as plt\n",
    "import seaborn as sns\n",
    "from sklearn.utils import shuffle\n",
    "from tqdm import tqdm"
   ]
  },
  {
   "cell_type": "code",
   "execution_count": 2,
   "metadata": {},
   "outputs": [
    {
     "data": {
      "text/plain": [
       "<torch._C.Generator at 0x161f40b30>"
      ]
     },
     "execution_count": 2,
     "metadata": {},
     "output_type": "execute_result"
    }
   ],
   "source": [
    "np.random.seed(42)\n",
    "torch.manual_seed(42)"
   ]
  },
  {
   "cell_type": "markdown",
   "metadata": {},
   "source": [
    "# Study population"
   ]
  },
  {
   "cell_type": "code",
   "execution_count": 3,
   "metadata": {},
   "outputs": [],
   "source": [
    "data_dir = \"../datafiles/chexpert/\"\n",
    "input_csv = \"chexpert.sample_128.test.csv\"\n",
    "\n",
    "# data_dir = '../datafiles/mimic/'\n",
    "# input_csv = 'mimic.sample.test.csv'\n",
    "\n",
    "output_suffix = \"resample\"\n",
    "\n",
    "sample_size_factor = 3"
   ]
  },
  {
   "cell_type": "markdown",
   "metadata": {},
   "source": [
    "#### Preprocessing"
   ]
  },
  {
   "cell_type": "code",
   "execution_count": 4,
   "metadata": {},
   "outputs": [],
   "source": [
    "df = pd.read_csv(data_dir + input_csv).drop(columns=\"Unnamed: 0\")\n",
    "\n",
    "\n",
    "def bin_age(age):\n",
    "    if age <= 20:\n",
    "        return 0\n",
    "    if age <= 30:\n",
    "        return 1\n",
    "    if age <= 40:\n",
    "        return 2\n",
    "    if age <= 50:\n",
    "        return 3\n",
    "    if age <= 60:\n",
    "        return 4\n",
    "    if age <= 70:\n",
    "        return 5\n",
    "    if age <= 80:\n",
    "        return 6\n",
    "    return 7\n",
    "\n",
    "\n",
    "df[\"age_bin\"] = df[\"age\"].apply(bin_age)"
   ]
  },
  {
   "cell_type": "markdown",
   "metadata": {},
   "source": [
    "#### Resample df to have equal proportion of Asian, Black, White"
   ]
  },
  {
   "cell_type": "code",
   "execution_count": 5,
   "metadata": {},
   "outputs": [
    {
     "data": {
      "text/plain": [
       "race_label\n",
       "0    0.336515\n",
       "2    0.332165\n",
       "1    0.331320\n",
       "dtype: float64"
      ]
     },
     "execution_count": 5,
     "metadata": {},
     "output_type": "execute_result"
    }
   ],
   "source": [
    "n_samples = len(df) * sample_size_factor\n",
    "w_race = (1 / df.value_counts(\"race_label\", normalize=True)).to_dict()\n",
    "ids = list(\n",
    "    torch.utils.data.WeightedRandomSampler(\n",
    "        df[\"race_label\"].apply(lambda x: w_race[x]).values, n_samples, replacement=True\n",
    "    )\n",
    ")\n",
    "df_balanced_race = df.iloc[ids]\n",
    "df_balanced_race.value_counts(\"race_label\", normalize=True)"
   ]
  },
  {
   "cell_type": "markdown",
   "metadata": {},
   "source": [
    "#### Within each (race)-subgroup  ensure equal prevalence. Within each (race, disease)-subsubgroup ensure equal age distribution."
   ]
  },
  {
   "cell_type": "code",
   "execution_count": 10,
   "metadata": {},
   "outputs": [
    {
     "data": {
      "text/plain": [
       "array([2, 0, 1])"
      ]
     },
     "execution_count": 10,
     "metadata": {},
     "output_type": "execute_result"
    }
   ],
   "source": [
    "df_balanced_race.race_label.unique()"
   ]
  },
  {
   "cell_type": "code",
   "execution_count": 6,
   "metadata": {},
   "outputs": [
    {
     "name": "stdout",
     "output_type": "stream",
     "text": [
      "disease_label\n",
      "2    0.507688\n",
      "1    0.405596\n",
      "0    0.086715\n",
      "dtype: float64\n",
      "disease_label\n",
      "2    0.560962\n",
      "1    0.328820\n",
      "0    0.110219\n",
      "dtype: float64\n",
      "disease_label\n",
      "2    0.505971\n",
      "1    0.410620\n",
      "0    0.083409\n",
      "dtype: float64\n",
      "disease_label\n",
      "2    0.473756\n",
      "1    0.439080\n",
      "0    0.087164\n",
      "dtype: float64\n"
     ]
    }
   ],
   "source": [
    "subgroups = [\n",
    "    df_balanced_race.loc[df_balanced_race[\"race_label\"] == i]\n",
    "    for i in df_balanced_race.race_label.unique()\n",
    "]\n",
    "overall_proportion_disease = df.value_counts(\"disease_label\", normalize=True)\n",
    "print(overall_proportion_disease)\n",
    "disease_labels = df.disease_label.unique()\n",
    "overall_proportion_age_per_disease_label = [\n",
    "    df.loc[df.disease_label == d].value_counts(\"age_bin\", normalize=True)\n",
    "    for d in disease_labels\n",
    "]\n",
    "\n",
    "for i, subgroup in enumerate(subgroups):\n",
    "    # 1. Ensure constant disease prevalence in each subgroup\n",
    "    n_samples = len(subgroup)\n",
    "    observed_proportion = subgroup.value_counts(\"disease_label\", normalize=True)\n",
    "    print(observed_proportion)\n",
    "    w = (overall_proportion_disease / observed_proportion).to_dict()\n",
    "    ids = list(\n",
    "        torch.utils.data.WeightedRandomSampler(\n",
    "            subgroup[\"disease_label\"].apply(lambda x: w[x]).values,\n",
    "            n_samples,\n",
    "            replacement=True,\n",
    "        )\n",
    "    )\n",
    "    subgroups[i] = subgroup.iloc[ids]\n",
    "\n",
    "    # 2. Further ensure constant age repartition across groups\n",
    "    subsubgroups = [\n",
    "        subgroups[i].loc[subgroups[i].disease_label == d] for d in disease_labels\n",
    "    ]\n",
    "    for j, subsubgroup in enumerate(subsubgroups):\n",
    "        n_samples = len(subsubgroup)\n",
    "        observed_proportion = subsubgroup.value_counts(\"age_bin\", normalize=True)\n",
    "        w = (\n",
    "            overall_proportion_age_per_disease_label[j] / observed_proportion\n",
    "        ).to_dict()\n",
    "        ids = list(\n",
    "            torch.utils.data.WeightedRandomSampler(\n",
    "                subsubgroup[\"age_bin\"].apply(lambda x: w[x]).values,\n",
    "                n_samples,\n",
    "                replacement=True,\n",
    "            )\n",
    "        )\n",
    "        subsubgroups[j] = subsubgroup.iloc[ids]\n",
    "\n",
    "    subgroups[i] = pd.concat(subsubgroups)\n",
    "\n",
    "balanced_df = pd.concat(subgroups)"
   ]
  },
  {
   "cell_type": "markdown",
   "metadata": {},
   "source": [
    "#### Check balanced dataset"
   ]
  },
  {
   "cell_type": "code",
   "execution_count": null,
   "metadata": {},
   "outputs": [],
   "source": [
    "balanced_df.groupby([\"race\"]).size()"
   ]
  },
  {
   "cell_type": "code",
   "execution_count": null,
   "metadata": {},
   "outputs": [],
   "source": [
    "balanced_df.groupby([\"race\", \"disease_label\"]).size()"
   ]
  },
  {
   "cell_type": "code",
   "execution_count": null,
   "metadata": {},
   "outputs": [],
   "source": [
    "balanced_df.groupby([\"race\", \"disease_label\", \"age_bin\"]).size()"
   ]
  },
  {
   "cell_type": "markdown",
   "metadata": {},
   "source": [
    "#### Save balanced dataset"
   ]
  },
  {
   "cell_type": "code",
   "execution_count": null,
   "metadata": {},
   "outputs": [],
   "source": [
    "balanced_df.to_csv(data_dir + input_csv.replace(\"sample\", output_suffix))"
   ]
  },
  {
   "cell_type": "markdown",
   "metadata": {},
   "source": [
    "## Plots"
   ]
  },
  {
   "cell_type": "code",
   "execution_count": null,
   "metadata": {},
   "outputs": [],
   "source": [
    "df_cxr = pd.read_csv(data_dir + input_csv.replace(\"sample\", output_suffix))"
   ]
  },
  {
   "cell_type": "code",
   "execution_count": null,
   "metadata": {},
   "outputs": [],
   "source": [
    "df_cxr.loc[df_cxr[\"disease\"] == \"Pleural Effusion\", \"disease\"] = \"Pleur. Eff.\"\n",
    "df_cxr.loc[df_cxr[\"disease\"] == \"No Finding\", \"disease\"] = \"No Find.\""
   ]
  },
  {
   "cell_type": "code",
   "execution_count": null,
   "metadata": {},
   "outputs": [],
   "source": [
    "df_subgroup = df_cxr[df_cxr[\"race_label\"] == 0]\n",
    "prev_0 = len(df_subgroup[df_subgroup[\"disease_label\"] == 0]) / len(df_subgroup)\n",
    "prev_1 = len(df_subgroup[df_subgroup[\"disease_label\"] == 1]) / len(df_subgroup)\n",
    "prev_2 = len(df_subgroup[df_subgroup[\"disease_label\"] == 2]) / len(df_subgroup)\n",
    "print(\"\")\n",
    "print(\"Prevalence - White\")\n",
    "print(\"No-finding:\\t\\t{:.2f}\".format(prev_0))\n",
    "print(\"Pleural effusion:\\t{:.2f}\".format(prev_1))\n",
    "print(\"Other:\\t\\t\\t{:.2f}\".format(prev_2))\n",
    "\n",
    "df_subgroup = df_cxr[df_cxr[\"race_label\"] == 1]\n",
    "prev_0 = len(df_subgroup[df_subgroup[\"disease_label\"] == 0]) / len(df_subgroup)\n",
    "prev_1 = len(df_subgroup[df_subgroup[\"disease_label\"] == 1]) / len(df_subgroup)\n",
    "prev_2 = len(df_subgroup[df_subgroup[\"disease_label\"] == 2]) / len(df_subgroup)\n",
    "print(\"\")\n",
    "print(\"Prevalence - Asian\")\n",
    "print(\"No-finding:\\t\\t{:.2f}\".format(prev_0))\n",
    "print(\"Pleural effusion:\\t{:.2f}\".format(prev_1))\n",
    "print(\"Other:\\t\\t\\t{:.2f}\".format(prev_2))\n",
    "\n",
    "df_subgroup = df_cxr[df_cxr[\"race_label\"] == 2]\n",
    "prev_0 = len(df_subgroup[df_subgroup[\"disease_label\"] == 0]) / len(df_subgroup)\n",
    "prev_1 = len(df_subgroup[df_subgroup[\"disease_label\"] == 1]) / len(df_subgroup)\n",
    "prev_2 = len(df_subgroup[df_subgroup[\"disease_label\"] == 2]) / len(df_subgroup)\n",
    "print(\"\")\n",
    "print(\"Prevalence - Black\")\n",
    "print(\"No-finding:\\t\\t{:.2f}\".format(prev_0))\n",
    "print(\"Pleural effusion:\\t{:.2f}\".format(prev_1))\n",
    "print(\"Other:\\t\\t\\t{:.2f}\".format(prev_2))"
   ]
  },
  {
   "cell_type": "code",
   "execution_count": null,
   "metadata": {},
   "outputs": [],
   "source": [
    "fontsize = 16\n",
    "plt.rc(\"xtick\", labelsize=fontsize)\n",
    "plt.rc(\"ytick\", labelsize=fontsize)\n",
    "\n",
    "fig = sns.catplot(\n",
    "    x=\"sex\",\n",
    "    y=\"age\",\n",
    "    hue=\"race\",\n",
    "    order=[\"Male\", \"Female\"],\n",
    "    hue_order=[\"White\", \"Asian\", \"Black\"],\n",
    "    kind=\"box\",\n",
    "    data=df_cxr,\n",
    ")\n",
    "fig._legend.remove()\n",
    "plt.xlabel(\"\", fontsize=fontsize)\n",
    "plt.ylabel(\"Age (years)\", fontsize=fontsize)\n",
    "plt.ylim([0, 100])\n",
    "plt.legend(fontsize=fontsize, loc=\"lower center\", ncol=3)\n",
    "plt.show()\n",
    "# fig.savefig(\"CheXpert-resample-age-sex-race.png\", bbox_inches='tight', dpi=300)"
   ]
  },
  {
   "cell_type": "code",
   "execution_count": null,
   "metadata": {},
   "outputs": [],
   "source": [
    "fig = sns.catplot(\n",
    "    x=\"disease\",\n",
    "    y=\"age\",\n",
    "    hue=\"race\",\n",
    "    order=[\"Other\", \"Pleur. Eff.\", \"No Find.\"],\n",
    "    hue_order=[\"White\", \"Asian\", \"Black\"],\n",
    "    kind=\"box\",\n",
    "    data=df_cxr,\n",
    ")\n",
    "fig._legend.remove()\n",
    "plt.xlabel(\"\", fontsize=fontsize)\n",
    "plt.ylabel(\"Age (years)\", fontsize=fontsize)\n",
    "plt.ylim([0, 100])\n",
    "plt.legend(fontsize=fontsize, loc=\"lower center\", ncol=3)\n",
    "plt.show()\n",
    "# fig.savefig(\"CheXpert-resample-age-pathology-race.png\", bbox_inches='tight', dpi=300)"
   ]
  },
  {
   "cell_type": "code",
   "execution_count": null,
   "metadata": {},
   "outputs": [],
   "source": [
    "fig = sns.catplot(\n",
    "    x=\"disease\",\n",
    "    hue=\"sex\",\n",
    "    order=[\"Other\", \"Pleur. Eff.\", \"No Find.\"],\n",
    "    hue_order=[\"Male\", \"Female\"],\n",
    "    data=df_cxr,\n",
    "    kind=\"count\",\n",
    ")\n",
    "fig._legend.remove()\n",
    "plt.xlabel(\"\", fontsize=fontsize)\n",
    "plt.ylabel(\"Count\", fontsize=fontsize)\n",
    "plt.legend(fontsize=fontsize)\n",
    "plt.show()\n",
    "# fig.savefig(\"CheXpert-resample-sex-pathology.png\", bbox_inches='tight', dpi=300)"
   ]
  },
  {
   "cell_type": "code",
   "execution_count": null,
   "metadata": {},
   "outputs": [],
   "source": [
    "fig = sns.catplot(\n",
    "    x=\"disease\",\n",
    "    hue=\"race\",\n",
    "    order=[\"Other\", \"Pleur. Eff.\", \"No Find.\"],\n",
    "    hue_order=[\"White\", \"Asian\", \"Black\"],\n",
    "    data=df_cxr,\n",
    "    kind=\"count\",\n",
    ")\n",
    "fig._legend.remove()\n",
    "plt.xlabel(\"\", fontsize=fontsize)\n",
    "plt.ylabel(\"Count\", fontsize=fontsize)\n",
    "plt.legend(fontsize=fontsize)\n",
    "plt.show()\n",
    "# fig.savefig(\"CheXpert-resample-race-pathology.png\", bbox_inches='tight', dpi=300)"
   ]
  },
  {
   "cell_type": "code",
   "execution_count": null,
   "metadata": {},
   "outputs": [],
   "source": [
    "fig = sns.catplot(\n",
    "    x=\"disease\",\n",
    "    y=\"age\",\n",
    "    order=[\"Other\", \"Pleur. Eff.\", \"No Find.\"],\n",
    "    kind=\"box\",\n",
    "    data=df_cxr,\n",
    ")\n",
    "plt.xlabel(\"\", fontsize=fontsize)\n",
    "plt.ylabel(\"Age (years)\", fontsize=fontsize)\n",
    "plt.ylim([0, 100])\n",
    "plt.show()\n",
    "# fig.savefig(\"CheXpert-resample-age-pathology.png\", bbox_inches='tight', dpi=300)"
   ]
  },
  {
   "cell_type": "code",
   "execution_count": null,
   "metadata": {},
   "outputs": [],
   "source": [
    "fig = sns.catplot(x=\"sex\", y=\"age\", order=[\"Male\", \"Female\"], kind=\"box\", data=df_cxr)\n",
    "sns.stripplot(\n",
    "    x=\"sex\",\n",
    "    y=\"age\",\n",
    "    color=\"k\",\n",
    "    order=[\"Male\", \"Female\"],\n",
    "    alpha=0.01,\n",
    "    data=df_cxr,\n",
    "    ax=fig.ax,\n",
    ")\n",
    "plt.xlabel(\"\", fontsize=fontsize)\n",
    "plt.ylabel(\"Age (years)\", fontsize=fontsize)\n",
    "plt.ylim([0, 100])\n",
    "plt.show()\n",
    "# fig.savefig(\"CheXpert-resample-age-sex.png\", bbox_inches='tight', dpi=300)"
   ]
  },
  {
   "cell_type": "code",
   "execution_count": null,
   "metadata": {},
   "outputs": [],
   "source": [
    "fig = sns.catplot(\n",
    "    x=\"race\", y=\"age\", order=[\"White\", \"Asian\", \"Black\"], kind=\"box\", data=df_cxr\n",
    ")\n",
    "sns.stripplot(\n",
    "    x=\"race\",\n",
    "    y=\"age\",\n",
    "    color=\"k\",\n",
    "    order=[\"White\", \"Asian\", \"Black\"],\n",
    "    alpha=0.01,\n",
    "    data=df_cxr,\n",
    "    ax=fig.ax,\n",
    ")\n",
    "plt.xlabel(\"\", fontsize=fontsize)\n",
    "plt.ylabel(\"Age (years)\", fontsize=fontsize)\n",
    "plt.ylim([0, 100])\n",
    "plt.show()\n",
    "# fig.savefig(\"CheXpert-resample-age-race.png\", bbox_inches='tight', dpi=300)"
   ]
  },
  {
   "cell_type": "code",
   "execution_count": null,
   "metadata": {},
   "outputs": [],
   "source": [
    "fig = sns.catplot(\n",
    "    x=\"race\", order=[\"White\", \"Asian\", \"Black\"], data=df_cxr, kind=\"count\"\n",
    ")\n",
    "plt.xlabel(\"\", fontsize=fontsize)\n",
    "plt.ylabel(\"Count\", fontsize=fontsize)\n",
    "plt.show()\n",
    "# fig.savefig(\"CheXpert-resample-race.png\", bbox_inches='tight', dpi=300)"
   ]
  },
  {
   "cell_type": "code",
   "execution_count": null,
   "metadata": {},
   "outputs": [],
   "source": [
    "fig = sns.catplot(x=\"sex\", order=[\"Male\", \"Female\"], data=df_cxr, kind=\"count\")\n",
    "plt.xlabel(\"\", fontsize=fontsize)\n",
    "plt.ylabel(\"Count\", fontsize=fontsize)\n",
    "plt.show()\n",
    "# fig.savefig(\"CheXpert-resample-sex.png\", bbox_inches='tight', dpi=300)"
   ]
  },
  {
   "cell_type": "code",
   "execution_count": null,
   "metadata": {},
   "outputs": [],
   "source": [
    "fig = sns.catplot(\n",
    "    x=\"disease\", order=[\"Other\", \"Pleur. Eff.\", \"No Find.\"], data=df_cxr, kind=\"count\"\n",
    ")\n",
    "plt.xlabel(\"\", fontsize=fontsize)\n",
    "plt.ylabel(\"Count\", fontsize=fontsize)\n",
    "plt.show()\n",
    "# fig.savefig(\"CheXpert-resample-pathology.png\", bbox_inches='tight', dpi=300)"
   ]
  },
  {
   "cell_type": "code",
   "execution_count": null,
   "metadata": {},
   "outputs": [],
   "source": [
    "fig = sns.catplot(\n",
    "    x=\"race\",\n",
    "    hue=\"sex\",\n",
    "    order=[\"White\", \"Asian\", \"Black\"],\n",
    "    hue_order=[\"Male\", \"Female\"],\n",
    "    data=df_cxr,\n",
    "    kind=\"count\",\n",
    ")\n",
    "fig._legend.remove()\n",
    "plt.xlabel(\"\", fontsize=fontsize)\n",
    "plt.ylabel(\"Count\", fontsize=fontsize)\n",
    "plt.legend(fontsize=fontsize)\n",
    "plt.show()\n",
    "# fig.savefig(\"CheXpert-resample-sex-race.png\", bbox_inches='tight', dpi=300)"
   ]
  },
  {
   "cell_type": "code",
   "execution_count": null,
   "metadata": {},
   "outputs": [],
   "source": [
    "fig = sns.catplot(\n",
    "    x=\"sex\",\n",
    "    hue=\"race\",\n",
    "    order=[\"Male\", \"Female\"],\n",
    "    hue_order=[\"White\", \"Asian\", \"Black\"],\n",
    "    data=df_cxr,\n",
    "    kind=\"count\",\n",
    ")\n",
    "fig._legend.remove()\n",
    "plt.xlabel(\"\", fontsize=fontsize)\n",
    "plt.ylabel(\"Count\", fontsize=fontsize)\n",
    "plt.legend(fontsize=fontsize)\n",
    "plt.show()\n",
    "# fig.savefig(\"CheXpert-resample-race-sex.png\", bbox_inches='tight', dpi=300)"
   ]
  },
  {
   "cell_type": "code",
   "execution_count": null,
   "metadata": {},
   "outputs": [],
   "source": []
  }
 ],
 "metadata": {
  "kernelspec": {
   "display_name": "ssl_benchmark_disease_diagnosis-TH-5Rskg",
   "language": "python",
   "name": "python3"
  },
  "language_info": {
   "codemirror_mode": {
    "name": "ipython",
    "version": 3
   },
   "file_extension": ".py",
   "mimetype": "text/x-python",
   "name": "python",
   "nbconvert_exporter": "python",
   "pygments_lexer": "ipython3",
   "version": "3.9.16"
  },
  "vscode": {
   "interpreter": {
    "hash": "118298914120c3bed14e6c153d818e4458def201929d094e31dfc514a45929f4"
   }
  }
 },
 "nbformat": 4,
 "nbformat_minor": 4
}
