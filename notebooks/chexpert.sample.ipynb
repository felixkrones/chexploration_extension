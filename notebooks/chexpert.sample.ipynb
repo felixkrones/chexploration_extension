{
 "cells": [
  {
   "cell_type": "code",
   "execution_count": null,
   "metadata": {},
   "outputs": [],
   "source": [
    "import os\n",
    "import pandas as pd\n",
    "import numpy as np\n",
    "import matplotlib.pyplot as plt\n",
    "import seaborn as sns\n",
    "from tqdm import tqdm"
   ]
  },
  {
   "cell_type": "code",
   "execution_count": null,
   "metadata": {},
   "outputs": [],
   "source": [
    "# point to the parent directory that contains the folder 'CheXpert-v1.0'\n",
    "img_data_dir = \"/Users/felixkrones/python_projects/data/ChestXpert/\"\n",
    "split_file = \"valid.csv\" # valid.csv\n",
    "img_size = 128\n",
    "to_filter = False"
   ]
  },
  {
   "cell_type": "markdown",
   "metadata": {},
   "source": [
    "# Study population"
   ]
  },
  {
   "attachments": {},
   "cell_type": "markdown",
   "metadata": {},
   "source": [
    "## Merge data and rename or label"
   ]
  },
  {
   "cell_type": "code",
   "execution_count": null,
   "metadata": {},
   "outputs": [],
   "source": [
    "data_dir = \"../datafiles/chexpert/\"\n",
    "df_demo = pd.DataFrame(\n",
    "    pd.read_excel(data_dir + \"CHEXPERT DEMO.xlsx\", engine=\"openpyxl\")\n",
    ")\n",
    "\n",
    "df_demo = df_demo.rename(columns={\"PRIMARY_RACE\": \"race\"})\n",
    "df_demo = df_demo.rename(columns={\"PATIENT\": \"patient_id\"})\n",
    "df_demo = df_demo.rename(columns={\"GENDER\": \"sex\"})\n",
    "df_demo = df_demo.rename(columns={\"AGE_AT_CXR\": \"age\"})\n",
    "df_demo = df_demo.rename(columns={\"ETHNICITY\": \"ethnicity\"})\n",
    "df_demo = df_demo.drop([\"sex\", \"age\"], axis=1)\n",
    "df_demo.head(2)"
   ]
  },
  {
   "cell_type": "code",
   "execution_count": null,
   "metadata": {},
   "outputs": [],
   "source": [
    "df_img_data = pd.read_csv(data_dir + split_file)\n",
    "print(df_img_data.shape)"
   ]
  },
  {
   "cell_type": "code",
   "execution_count": null,
   "metadata": {},
   "outputs": [],
   "source": [
    "if split_file == \"train.csv\":\n",
    "    df_data_split = pd.read_csv(data_dir + \"chexpert_split_2021_08_20.csv\").set_index(\n",
    "        \"index\"\n",
    "    )\n",
    "\n",
    "    df_img_data = pd.concat([df_img_data, df_data_split], axis=1)\n",
    "    df_img_data = df_img_data[~df_img_data.split.isna()]"
   ]
  },
  {
   "cell_type": "code",
   "execution_count": null,
   "metadata": {},
   "outputs": [],
   "source": [
    "split = df_img_data.Path.str.split(\"/\", expand=True)\n",
    "df_img_data[\"patient_id\"] = split[2]\n",
    "df_img_data = df_img_data.rename(columns={\"Age\": \"age\"})\n",
    "df_img_data = df_img_data.rename(columns={\"Sex\": \"sex\"})\n",
    "print(df_img_data.shape)"
   ]
  },
  {
   "cell_type": "code",
   "execution_count": null,
   "metadata": {},
   "outputs": [],
   "source": [
    "if split_file == \"train.csv\":\n",
    "    df_cxr = df_demo.merge(df_img_data, on=\"patient_id\")\n",
    "elif split_file == \"valid.csv\":\n",
    "    df_cxr = pd.merge(df_img_data, df_demo, on=\"patient_id\", how=\"left\")\n",
    "else:\n",
    "    raise ValueError(f\"split_file must be train.csv or valid.csv, not {split_file}\")\n",
    "print(df_img_data.shape)"
   ]
  },
  {
   "cell_type": "code",
   "execution_count": null,
   "metadata": {},
   "outputs": [],
   "source": [
    "white = \"White\"\n",
    "asian = \"Asian\"\n",
    "black = \"Black\""
   ]
  },
  {
   "cell_type": "code",
   "execution_count": null,
   "metadata": {},
   "outputs": [],
   "source": [
    "mask = df_cxr.race.str.contains(\"Black\", na=False)\n",
    "df_cxr.loc[mask, \"race\"] = black\n",
    "\n",
    "mask = df_cxr.race.str.contains(\"White\", na=False)\n",
    "df_cxr.loc[mask, \"race\"] = white\n",
    "\n",
    "mask = df_cxr.race.str.contains(\"Asian\", na=False)\n",
    "df_cxr.loc[mask, \"race\"] = asian\n",
    "\n",
    "df_cxr[\"race\"].unique()\n",
    "print(df_cxr.shape)"
   ]
  },
  {
   "cell_type": "code",
   "execution_count": null,
   "metadata": {},
   "outputs": [],
   "source": [
    "df_cxr = df_cxr[df_cxr[\"Frontal/Lateral\"] == \"Frontal\"]\n",
    "print(df_cxr.shape)"
   ]
  },
  {
   "cell_type": "code",
   "execution_count": null,
   "metadata": {},
   "outputs": [],
   "source": [
    "df_cxr[\"race_label\"] = df_cxr[\"race\"]\n",
    "\n",
    "df_cxr.loc[df_cxr[\"race_label\"] == white, \"race_label\"] = 0\n",
    "df_cxr.loc[df_cxr[\"race_label\"] == asian, \"race_label\"] = 1\n",
    "df_cxr.loc[df_cxr[\"race_label\"] == black, \"race_label\"] = 2"
   ]
  },
  {
   "cell_type": "code",
   "execution_count": null,
   "metadata": {},
   "outputs": [],
   "source": [
    "df_cxr[\"sex_label\"] = df_cxr[\"sex\"]\n",
    "\n",
    "df_cxr.loc[df_cxr[\"sex_label\"] == \"Male\", \"sex_label\"] = 0\n",
    "df_cxr.loc[df_cxr[\"sex_label\"] == \"Female\", \"sex_label\"] = 1"
   ]
  },
  {
   "cell_type": "code",
   "execution_count": null,
   "metadata": {},
   "outputs": [],
   "source": [
    "df_cxr[\"disease\"] = np.nan\n",
    "df_cxr.loc[df_cxr[\"No Finding\"] == 1, \"disease\"] = \"No Finding\"\n",
    "df_cxr.loc[df_cxr[\"Pleural Effusion\"] == 1, \"disease\"] = \"Pleural Effusion\"\n",
    "df_cxr.loc[df_cxr[\"disease\"].isna(), \"disease\"] = \"Other\"\n",
    "\n",
    "df_cxr[\"disease_label\"] = df_cxr[\"disease\"]\n",
    "df_cxr.loc[df_cxr[\"disease_label\"] == \"No Finding\", \"disease_label\"] = 0\n",
    "df_cxr.loc[df_cxr[\"disease_label\"] == \"Pleural Effusion\", \"disease_label\"] = 1\n",
    "df_cxr.loc[df_cxr[\"disease_label\"] == \"Other\", \"disease_label\"] = 2"
   ]
  },
  {
   "attachments": {},
   "cell_type": "markdown",
   "metadata": {},
   "source": [
    "## Filter"
   ]
  },
  {
   "cell_type": "code",
   "execution_count": null,
   "metadata": {},
   "outputs": [],
   "source": [
    "print(f\"Shape : {df_cxr.shape}\")\n",
    "if to_filter:\n",
    "    df_cxr = df_cxr[df_cxr.race.isin([asian, black, white])]\n",
    "    df_cxr = df_cxr[df_cxr.ethnicity.isin([\"Non-Hispanic/Non-Latino\", \"Not Hispanic\"])]\n",
    "    print(f\"Shape after filter: {df_cxr.shape}\")"
   ]
  },
  {
   "cell_type": "code",
   "execution_count": null,
   "metadata": {},
   "outputs": [],
   "source": [
    "df_cxr.head()"
   ]
  },
  {
   "cell_type": "code",
   "execution_count": null,
   "metadata": {},
   "outputs": [],
   "source": [
    "df_cxr.tail()"
   ]
  },
  {
   "cell_type": "markdown",
   "metadata": {},
   "source": [
    "### Pre-processing of imaging dataset (this may take a few hours, needed only once)"
   ]
  },
  {
   "cell_type": "code",
   "execution_count": null,
   "metadata": {},
   "outputs": [],
   "source": [
    "from skimage.io import imread\n",
    "from skimage.io import imsave\n",
    "from skimage.transform import resize\n",
    "\n",
    "df_cxr = df_cxr.reset_index(drop=True)\n",
    "df_cxr[\"path_preproc\"] = df_cxr[\"Path\"]\n",
    "\n",
    "preproc_dir = f\"preproc_{img_size}x{img_size}_len_{len(df_cxr)}/\"\n",
    "out_dir = img_data_dir\n",
    "\n",
    "if not os.path.exists(out_dir + preproc_dir):\n",
    "    os.makedirs(out_dir + preproc_dir)\n",
    "\n",
    "for idx, p in enumerate(tqdm(df_cxr[\"Path\"])):\n",
    "    split = p.split(\"/\")\n",
    "    preproc_filename = split[2] + \"_\" + split[3] + \"_\" + split[4]\n",
    "    df_cxr.loc[idx, \"path_preproc\"] = preproc_dir + preproc_filename\n",
    "    out_path = out_dir + preproc_dir + preproc_filename\n",
    "\n",
    "    if not os.path.exists(out_path):\n",
    "        image = imread(img_data_dir + p)\n",
    "        image = resize(image, output_shape=(img_size, img_size), preserve_range=True)\n",
    "        imsave(out_path, image.astype(np.uint8))"
   ]
  },
  {
   "cell_type": "markdown",
   "metadata": {},
   "source": [
    "### Save full sample"
   ]
  },
  {
   "cell_type": "code",
   "execution_count": null,
   "metadata": {},
   "outputs": [],
   "source": [
    "df_cxr.tail()"
   ]
  },
  {
   "cell_type": "code",
   "execution_count": null,
   "metadata": {},
   "outputs": [],
   "source": [
    "df_cxr.to_csv(data_dir + f\"chexpert.sample_{img_size}_from_{split_file.split('.')[0]}_filtered_{to_filter}.csv\")"
   ]
  },
  {
   "cell_type": "markdown",
   "metadata": {},
   "source": [
    "## Creating subsets"
   ]
  },
  {
   "attachments": {},
   "cell_type": "markdown",
   "metadata": {},
   "source": [
    "## Train-val-test"
   ]
  },
  {
   "cell_type": "code",
   "execution_count": null,
   "metadata": {},
   "outputs": [],
   "source": [
    "df_cxr = pd.read_csv(data_dir + f\"chexpert.sample_{img_size}_from_{split_file.split('.')[0]}_filtered_{to_filter}.csv\")"
   ]
  },
  {
   "cell_type": "code",
   "execution_count": null,
   "metadata": {},
   "outputs": [],
   "source": [
    "if split_file == \"train.csv\":\n",
    "    df_train = df_cxr[df_cxr.split == \"train\"]\n",
    "    df_val = df_cxr[df_cxr.split == \"validate\"]\n",
    "    df_test = df_cxr[df_cxr.split == \"test\"]\n",
    "elif split_file == \"valid.csv\":\n",
    "    df_test = df_cxr\n",
    "else:\n",
    "    raise ValueError(f\"split_file must be train.csv or valid.csv, not {split_file}\")\n"
   ]
  },
  {
   "cell_type": "code",
   "execution_count": null,
   "metadata": {},
   "outputs": [],
   "source": [
    "if split_file == \"train.csv\":\n",
    "    df_train.to_csv(data_dir + f\"chexpert.sample_{img_size}_from_{split_file.split('.')[0]}_filtered_{to_filter}.train.csv\")\n",
    "    df_val.to_csv(data_dir + f\"chexpert.sample_{img_size}_from_{split_file.split('.')[0]}_filtered_{to_filter}.val.csv\")\n",
    "df_test.to_csv(data_dir + f\"chexpert.sample_{img_size}_from_{split_file.split('.')[0]}_filtered_{to_filter}.test.csv\")"
   ]
  },
  {
   "attachments": {},
   "cell_type": "markdown",
   "metadata": {},
   "source": [
    "## Additional (run only if split_file is train.csv)"
   ]
  },
  {
   "cell_type": "code",
   "execution_count": null,
   "metadata": {},
   "outputs": [],
   "source": [
    "df_train_white = df_train[df_train[\"race\"] == white]\n",
    "df_val_white = df_val[df_val[\"race\"] == white]\n",
    "df_train_white.to_csv(data_dir + f\"chexpert.sample_{img_size}_from_{split_file.split('.')[0]}_filtered_{to_filter}.train.white.csv\")\n",
    "df_val_white.to_csv(data_dir + f\"chexpert.sample_{img_size}_from_{split_file.split('.')[0]}_filtered_{to_filter}.val.white.csv\")\n",
    "\n",
    "df_cxr_white = df_cxr[df_cxr[\"race\"] == white]\n",
    "df_cxr_asian = df_cxr[df_cxr[\"race\"] == asian]\n",
    "df_cxr_black = df_cxr[df_cxr[\"race\"] == black]\n",
    "\n",
    "df_test_white = df_test[df_test[\"race\"] == white]\n",
    "df_test_asian = df_test[df_test[\"race\"] == asian]\n",
    "df_test_black = df_test[df_test[\"race\"] == black]\n",
    "\n",
    "df_train_asian = df_train[df_train[\"race\"] == asian]\n",
    "df_train_black = df_train[df_train[\"race\"] == black]\n",
    "\n",
    "df_val_asian = df_val[df_val[\"race\"] == asian]\n",
    "df_val_black = df_val[df_val[\"race\"] == black]"
   ]
  },
  {
   "cell_type": "code",
   "execution_count": null,
   "metadata": {},
   "outputs": [],
   "source": [
    "df_train_male = df_train[df_train[\"sex\"] == \"Male\"]\n",
    "df_val_male = df_val[df_val[\"sex\"] == \"Male\"]\n",
    "df_train_male.to_csv(data_dir + f\"chexpert.sample_{img_size}_from_{split_file.split('.')[0]}_filtered_{to_filter}.train.male.csv\")\n",
    "df_val_male.to_csv(data_dir + f\"chexpert.sample_{img_size}_from_{split_file.split('.')[0]}_filtered_{to_filter}.val.male.csv\")"
   ]
  },
  {
   "cell_type": "markdown",
   "metadata": {},
   "source": [
    "## Plots"
   ]
  },
  {
   "cell_type": "code",
   "execution_count": null,
   "metadata": {},
   "outputs": [],
   "source": [
    "df_cxr.loc[df_cxr[\"disease\"] == \"Pleural Effusion\", \"disease\"] = \"Pleur. Eff.\"\n",
    "df_cxr.loc[df_cxr[\"disease\"] == \"No Finding\", \"disease\"] = \"No Find.\""
   ]
  },
  {
   "cell_type": "code",
   "execution_count": null,
   "metadata": {},
   "outputs": [],
   "source": [
    "fontsize = 16\n",
    "plt.rc(\"xtick\", labelsize=fontsize)\n",
    "plt.rc(\"ytick\", labelsize=fontsize)\n",
    "fig = sns.catplot(\n",
    "    x=\"sex\",\n",
    "    y=\"age\",\n",
    "    hue=\"race\",\n",
    "    order=[\"Male\", \"Female\"],\n",
    "    hue_order=[\"White\", \"Asian\", \"Black\"],\n",
    "    kind=\"box\",\n",
    "    data=df_cxr,\n",
    ")\n",
    "fig._legend.remove()\n",
    "plt.xlabel(\"\", fontsize=fontsize)\n",
    "plt.ylabel(\"Age (years)\", fontsize=fontsize)\n",
    "plt.ylim([0, 100])\n",
    "plt.legend(fontsize=fontsize, loc=\"lower center\", ncol=3)\n",
    "plt.show()\n",
    "# fig.savefig(\"CheXpert-age-sex-race.png\", bbox_inches='tight', dpi=300)"
   ]
  },
  {
   "cell_type": "code",
   "execution_count": null,
   "metadata": {},
   "outputs": [],
   "source": [
    "fig = sns.catplot(\n",
    "    x=\"disease\",\n",
    "    y=\"age\",\n",
    "    hue=\"race\",\n",
    "    order=[\"Other\", \"Pleur. Eff.\", \"No Find.\"],\n",
    "    hue_order=[\"White\", \"Asian\", \"Black\"],\n",
    "    kind=\"box\",\n",
    "    data=df_cxr,\n",
    ")\n",
    "fig._legend.remove()\n",
    "plt.xlabel(\"\", fontsize=fontsize)\n",
    "plt.ylabel(\"Age (years)\", fontsize=fontsize)\n",
    "plt.ylim([0, 100])\n",
    "plt.legend(fontsize=fontsize, loc=\"lower center\", ncol=3)\n",
    "plt.show()\n",
    "# fig.savefig(\"CheXpert-age-pathology-race.png\", bbox_inches='tight', dpi=300)"
   ]
  },
  {
   "cell_type": "code",
   "execution_count": null,
   "metadata": {},
   "outputs": [],
   "source": [
    "fig = sns.catplot(\n",
    "    x=\"disease\",\n",
    "    hue=\"sex\",\n",
    "    order=[\"Other\", \"Pleur. Eff.\", \"No Find.\"],\n",
    "    hue_order=[\"Male\", \"Female\"],\n",
    "    data=df_cxr,\n",
    "    kind=\"count\",\n",
    ")\n",
    "fig._legend.remove()\n",
    "plt.xlabel(\"\", fontsize=fontsize)\n",
    "plt.ylabel(\"Count\", fontsize=fontsize)\n",
    "plt.legend(fontsize=fontsize)\n",
    "plt.show()\n",
    "# fig.savefig(\"CheXpert-sex-pathology.png\", bbox_inches='tight', dpi=300)"
   ]
  },
  {
   "cell_type": "code",
   "execution_count": null,
   "metadata": {},
   "outputs": [],
   "source": [
    "fig = sns.catplot(\n",
    "    x=\"disease\",\n",
    "    hue=\"race\",\n",
    "    order=[\"Other\", \"Pleur. Eff.\", \"No Find.\"],\n",
    "    hue_order=[\"White\", \"Asian\", \"Black\"],\n",
    "    data=df_cxr,\n",
    "    kind=\"count\",\n",
    ")\n",
    "fig._legend.remove()\n",
    "plt.xlabel(\"\", fontsize=fontsize)\n",
    "plt.ylabel(\"Count\", fontsize=fontsize)\n",
    "plt.legend(fontsize=fontsize)\n",
    "plt.show()\n",
    "# fig.savefig(\"CheXpert-race-pathology.png\", bbox_inches='tight', dpi=300)"
   ]
  },
  {
   "cell_type": "code",
   "execution_count": null,
   "metadata": {},
   "outputs": [],
   "source": [
    "fig = sns.catplot(\n",
    "    x=\"disease\",\n",
    "    y=\"age\",\n",
    "    order=[\"Other\", \"Pleur. Eff.\", \"No Find.\"],\n",
    "    kind=\"box\",\n",
    "    data=df_cxr,\n",
    ")\n",
    "plt.xlabel(\"\", fontsize=fontsize)\n",
    "plt.ylabel(\"Age (years)\", fontsize=fontsize)\n",
    "plt.ylim([0, 100])\n",
    "plt.show()\n",
    "# fig.savefig(\"CheXpert-age-pathology.png\", bbox_inches='tight', dpi=300)"
   ]
  },
  {
   "cell_type": "code",
   "execution_count": null,
   "metadata": {},
   "outputs": [],
   "source": [
    "fig = sns.catplot(x=\"sex\", y=\"age\", order=[\"Male\", \"Female\"], kind=\"box\", data=df_cxr)\n",
    "sns.stripplot(\n",
    "    x=\"sex\",\n",
    "    y=\"age\",\n",
    "    color=\"k\",\n",
    "    order=[\"Male\", \"Female\"],\n",
    "    alpha=0.01,\n",
    "    data=df_cxr,\n",
    "    ax=fig.ax,\n",
    ")\n",
    "plt.xlabel(\"\", fontsize=fontsize)\n",
    "plt.ylabel(\"Age (years)\", fontsize=fontsize)\n",
    "plt.ylim([0, 100])\n",
    "plt.show()\n",
    "# fig.savefig(\"CheXpert-age-sex.png\", bbox_inches='tight', dpi=300)"
   ]
  },
  {
   "cell_type": "code",
   "execution_count": null,
   "metadata": {},
   "outputs": [],
   "source": [
    "fig = sns.catplot(\n",
    "    x=\"race\", y=\"age\", order=[\"White\", \"Asian\", \"Black\"], kind=\"box\", data=df_cxr\n",
    ")\n",
    "sns.stripplot(\n",
    "    x=\"race\",\n",
    "    y=\"age\",\n",
    "    color=\"k\",\n",
    "    order=[\"White\", \"Asian\", \"Black\"],\n",
    "    alpha=0.01,\n",
    "    data=df_cxr,\n",
    "    ax=fig.ax,\n",
    ")\n",
    "plt.xlabel(\"\", fontsize=fontsize)\n",
    "plt.ylabel(\"Age (years)\", fontsize=fontsize)\n",
    "plt.ylim([0, 100])\n",
    "plt.show()\n",
    "# fig.savefig(\"CheXpert-age-race.png\", bbox_inches='tight', dpi=300)"
   ]
  },
  {
   "cell_type": "code",
   "execution_count": null,
   "metadata": {},
   "outputs": [],
   "source": [
    "fig = sns.catplot(\n",
    "    x=\"race\", order=[\"White\", \"Asian\", \"Black\"], data=df_cxr, kind=\"count\"\n",
    ")\n",
    "plt.xlabel(\"\", fontsize=fontsize)\n",
    "plt.ylabel(\"Count\", fontsize=fontsize)\n",
    "plt.show()\n",
    "# fig.savefig(\"CheXpert-race.png\", bbox_inches='tight', dpi=300)"
   ]
  },
  {
   "cell_type": "code",
   "execution_count": null,
   "metadata": {},
   "outputs": [],
   "source": [
    "fig = sns.catplot(x=\"sex\", order=[\"Male\", \"Female\"], data=df_cxr, kind=\"count\")\n",
    "plt.xlabel(\"\", fontsize=fontsize)\n",
    "plt.ylabel(\"Count\", fontsize=fontsize)\n",
    "plt.show()\n",
    "# fig.savefig(\"CheXpert-sex.png\", bbox_inches='tight', dpi=300)"
   ]
  },
  {
   "cell_type": "code",
   "execution_count": null,
   "metadata": {},
   "outputs": [],
   "source": [
    "fig = sns.catplot(\n",
    "    x=\"disease\", order=[\"Other\", \"Pleur. Eff.\", \"No Find.\"], data=df_cxr, kind=\"count\"\n",
    ")\n",
    "plt.xlabel(\"\", fontsize=fontsize)\n",
    "plt.ylabel(\"Count\", fontsize=fontsize)\n",
    "plt.show()\n",
    "# fig.savefig(\"CheXpert-pathology.png\", bbox_inches='tight', dpi=300)"
   ]
  },
  {
   "cell_type": "code",
   "execution_count": null,
   "metadata": {},
   "outputs": [],
   "source": [
    "fig = sns.catplot(\n",
    "    x=\"race\",\n",
    "    hue=\"sex\",\n",
    "    order=[\"White\", \"Asian\", \"Black\"],\n",
    "    hue_order=[\"Male\", \"Female\"],\n",
    "    data=df_cxr,\n",
    "    kind=\"count\",\n",
    ")\n",
    "fig._legend.remove()\n",
    "plt.xlabel(\"\", fontsize=fontsize)\n",
    "plt.ylabel(\"Count\", fontsize=fontsize)\n",
    "plt.legend(fontsize=fontsize)\n",
    "plt.show()\n",
    "# fig.savefig(\"CheXpert-sex-race.png\", bbox_inches='tight', dpi=300)"
   ]
  },
  {
   "cell_type": "code",
   "execution_count": null,
   "metadata": {},
   "outputs": [],
   "source": [
    "fig = sns.catplot(\n",
    "    x=\"sex\",\n",
    "    hue=\"race\",\n",
    "    order=[\"Male\", \"Female\"],\n",
    "    hue_order=[\"White\", \"Asian\", \"Black\"],\n",
    "    data=df_cxr,\n",
    "    kind=\"count\",\n",
    ")\n",
    "fig._legend.remove()\n",
    "plt.xlabel(\"\", fontsize=fontsize)\n",
    "plt.ylabel(\"Count\", fontsize=fontsize)\n",
    "plt.legend(fontsize=fontsize)\n",
    "plt.show()\n",
    "# fig.savefig(\"CheXpert-race-sex.png\", bbox_inches='tight', dpi=300)"
   ]
  },
  {
   "cell_type": "code",
   "execution_count": null,
   "metadata": {},
   "outputs": [],
   "source": []
  }
 ],
 "metadata": {
  "kernelspec": {
   "display_name": "ssl_benchmark_disease_diagnosis-TH-5Rskg",
   "language": "python",
   "name": "python3"
  },
  "language_info": {
   "codemirror_mode": {
    "name": "ipython",
    "version": 3
   },
   "file_extension": ".py",
   "mimetype": "text/x-python",
   "name": "python",
   "nbconvert_exporter": "python",
   "pygments_lexer": "ipython3",
   "version": "3.9.16"
  },
  "vscode": {
   "interpreter": {
    "hash": "118298914120c3bed14e6c153d818e4458def201929d094e31dfc514a45929f4"
   }
  }
 },
 "nbformat": 4,
 "nbformat_minor": 4
}
