{
 "cells": [
  {
   "attachments": {},
   "cell_type": "markdown",
   "metadata": {},
   "source": [
    "# GradCAM visualisations"
   ]
  },
  {
   "cell_type": "code",
   "execution_count": null,
   "metadata": {},
   "outputs": [],
   "source": [
    "import os\n",
    "import matplotlib.pyplot as plt\n",
    "import matplotlib as mpl\n",
    "import numpy as np\n",
    "import torch\n",
    "import torch.nn as nn\n",
    "from torchvision import models\n",
    "from torchvision.transforms.functional import normalize, resize, to_pil_image\n",
    "from skimage.io import imread\n",
    "from skimage.transform import resize\n",
    "from torchcam.methods import GradCAM\n",
    "from torchcam.utils import overlay_mask\n",
    "from skimage.io import imread\n",
    "from skimage.io import imsave\n",
    "\n",
    "from prediction.chexpert_disease import CheXpertDataModule, ResNet, DenseNet"
   ]
  },
  {
   "cell_type": "code",
   "execution_count": null,
   "metadata": {},
   "outputs": [],
   "source": [
    "# Parameters\n",
    "class_idx = 10  # 10 = Pleural Effusion\n",
    "img_size = 128\n",
    "num_classes = 14\n",
    "model_path = \"prediction/chexpert/disease/models/resnet-all_128/version_1/checkpoints/epoch=1-step=1018.ckpt\"\n",
    "model_path = \"prediction/chexpert/disease/models/densenet-all_128/version_0/checkpoints/epoch=9-step=5090.ckpt\"\n",
    "model_type = \"ResNet\"\n",
    "model_type = \"DenseNet\"\n",
    "layer = \"model.layer4\"\n",
    "layer = \"model.features.denseblock4.denselayer16\"\n",
    "image_paths = [\n",
    "    \"/Users/felixkrones/python_projects/data/ChestXpert/preproc_128x128_len_202/patient64542_study1_view1_frontal.jpg\",\n",
    "    #\"/Users/felixkrones/python_projects/data/ChestXpert/preproc_128x128_len_202/patient64543_study1_view1_frontal.jpg\"\n",
    "]\n",
    "out_dir = ('/').join(model_path.split(\"/\")[:-3] + [\"gradcam/\"])"
   ]
  },
  {
   "cell_type": "code",
   "execution_count": null,
   "metadata": {},
   "outputs": [],
   "source": [
    "# Get model\n",
    "model = eval(model_type).load_from_checkpoint(model_path, num_classes=num_classes)\n",
    "model.eval()"
   ]
  },
  {
   "cell_type": "code",
   "execution_count": null,
   "metadata": {},
   "outputs": [],
   "source": [
    "# Get data\n",
    "images = []\n",
    "for image in image_paths:\n",
    "    image = imread(image).astype(np.float32)\n",
    "    image = torch.from_numpy(image).unsqueeze(0)\n",
    "    if image.shape[2] == 3:\n",
    "        image = image.permute(2, 0, 1)\n",
    "    elif image.shape[0] == 3:\n",
    "        image = image\n",
    "    elif image.shape[0] == 1:\n",
    "        image = image.repeat(3, 1, 1)\n",
    "    else:\n",
    "        raise ValueError(f\"Image shape {image.shape} not supported.\")\n",
    "    images.append(image)\n",
    "\n",
    "# Convert list of images to tensor batch\n",
    "images = torch.from_numpy(np.stack(images))\n",
    "images.shape"
   ]
  },
  {
   "cell_type": "code",
   "execution_count": null,
   "metadata": {},
   "outputs": [],
   "source": [
    "# Show last image\n",
    "plt.imshow(image.permute(1, 2, 0).numpy().astype(np.uint8))"
   ]
  },
  {
   "cell_type": "code",
   "execution_count": null,
   "metadata": {},
   "outputs": [],
   "source": [
    "# Run GradCAM\n",
    "cam_extractor = GradCAM(model, layer)\n",
    "outs = model(images)\n",
    "cams = cam_extractor(class_idx, outs)[0]"
   ]
  },
  {
   "cell_type": "code",
   "execution_count": null,
   "metadata": {},
   "outputs": [],
   "source": [
    "# Overlayed on the image\n",
    "if not os.path.exists(out_dir):\n",
    "    os.makedirs(out_dir)\n",
    "for cam, img, path in zip(cams, images, image_paths):\n",
    "  result = overlay_mask(to_pil_image(img.squeeze()), to_pil_image(cam.squeeze(0), mode='F'), alpha=0.5)\n",
    "  plt.imshow(result); plt.show()\n",
    "  result.save(out_dir + path.split(\"/\")[-1])"
   ]
  },
  {
   "cell_type": "code",
   "execution_count": null,
   "metadata": {},
   "outputs": [],
   "source": []
  },
  {
   "cell_type": "code",
   "execution_count": null,
   "metadata": {},
   "outputs": [],
   "source": []
  }
 ],
 "metadata": {
  "kernelspec": {
   "display_name": "ssl_benchmark_disease_diagnosis-TH-5Rskg",
   "language": "python",
   "name": "python3"
  },
  "language_info": {
   "codemirror_mode": {
    "name": "ipython",
    "version": 3
   },
   "file_extension": ".py",
   "mimetype": "text/x-python",
   "name": "python",
   "nbconvert_exporter": "python",
   "pygments_lexer": "ipython3",
   "version": "3.9.16"
  },
  "orig_nbformat": 4
 },
 "nbformat": 4,
 "nbformat_minor": 2
}
