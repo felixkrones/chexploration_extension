{
 "cells": [
  {
   "attachments": {},
   "cell_type": "markdown",
   "metadata": {},
   "source": [
    "# GradCAM visualisations"
   ]
  },
  {
   "cell_type": "code",
   "execution_count": 1,
   "metadata": {},
   "outputs": [],
   "source": [
    "import os\n",
    "import torch\n",
    "import cv2\n",
    "import numpy as np\n",
    "import matplotlib.pyplot as plt\n",
    "\n",
    "from prediction.chexpert_disease import CheXpertDataModule, DenseNet"
   ]
  },
  {
   "cell_type": "code",
   "execution_count": null,
   "metadata": {},
   "outputs": [],
   "source": [
    "output_path = './map.jpg'\n",
    "class_idx = 0\n",
    "\n",
    "img_size = 128\n",
    "\n",
    "model_path = \"\"\n",
    "\n",
    "img_data_dir = \"/Users/felixkrones/python_projects/data/ChestXpert/\"\n",
    "\n",
    "csv_train_img = f\"../datafiles/chexpert/chexpert.sample_{img_size}_from_train_filtered_True.train.csv\"\n",
    "csv_val_img = f\"../datafiles/chexpert/chexpert.sample_{img_size}_from_train_filtered_True.val.csv\"\n",
    "csv_test_img = f\"../datafiles/chexpert/chexpert.sample_{img_size}_from_train_filtered_True.test.csv\"\n",
    "\n",
    "path_col_test = \"path_preproc\" # \"fake_image_path\""
   ]
  },
  {
   "cell_type": "code",
   "execution_count": null,
   "metadata": {},
   "outputs": [],
   "source": [
    "# Get data\n",
    "data = CheXpertDataModule(\n",
    "    img_data_dir=img_data_dir,\n",
    "    csv_train_img=csv_train_img,\n",
    "    csv_val_img=csv_val_img,\n",
    "    csv_test_img=csv_test_img,\n",
    "    image_size=(img_size, img_size),\n",
    "    pseudo_rgb=True,\n",
    "    batch_size=1,\n",
    "    num_workers=4,\n",
    "    path_col_test=path_col_test,\n",
    ")\n",
    "\n",
    "img, _ = next(iter(data.test_dataloader()))"
   ]
  },
  {
   "cell_type": "code",
   "execution_count": null,
   "metadata": {},
   "outputs": [],
   "source": [
    "# Get model\n",
    "model_type = DenseNet\n",
    "model = model_type(num_classes=14)\n",
    "model = model_type.load_from_checkpoint(model_path,\n",
    "            num_classes=num_classes,\n",
    "        )"
   ]
  },
  {
   "cell_type": "code",
   "execution_count": null,
   "metadata": {},
   "outputs": [],
   "source": [
    "# Get predictions\n",
    "model.eval()\n",
    "pred = model(img).argmax(dim=1)"
   ]
  },
  {
   "cell_type": "code",
   "execution_count": null,
   "metadata": {},
   "outputs": [],
   "source": [
    "# get the gradient of the output with respect to the parameters of the model\n",
    "pred[:, class_idx].backward()\n",
    "\n",
    "# pull the gradients out of the model\n",
    "gradients = model.get_activations_gradient()\n",
    "\n",
    "# pool the gradients across the channels\n",
    "pooled_gradients = torch.mean(gradients, dim=[0, 2, 3])\n",
    "\n",
    "# get the activations of the last convolutional layer\n",
    "activations = model.get_activations(img).detach()\n",
    "\n",
    "# weight the channels by corresponding gradients\n",
    "for i in range(img_size):\n",
    "    activations[:, i, :, :] *= pooled_gradients[i]\n",
    "    \n",
    "# average the channels of the activations\n",
    "heatmap = torch.mean(activations, dim=1).squeeze()\n",
    "\n",
    "# relu on top of the heatmap\n",
    "# expression (2) in https://arxiv.org/pdf/1610.02391.pdf\n",
    "heatmap = np.maximum(heatmap, 0)\n",
    "\n",
    "# normalize the heatmap\n",
    "heatmap /= torch.max(heatmap)\n",
    "\n",
    "# draw the heatmap\n",
    "plt.matshow(heatmap.squeeze())"
   ]
  },
  {
   "cell_type": "code",
   "execution_count": null,
   "metadata": {},
   "outputs": [],
   "source": [
    "# Put heatmap on top of picture\n",
    "heatmap = cv2.resize(heatmap, (img.shape[1], img.shape[0]))\n",
    "heatmap = np.uint8(255 * heatmap)\n",
    "heatmap = cv2.applyColorMap(heatmap, cv2.COLORMAP_JET)\n",
    "superimposed_img = heatmap * 0.4 + img\n",
    "cv2.imwrite(output_path, superimposed_img)\n"
   ]
  }
 ],
 "metadata": {
  "kernelspec": {
   "display_name": "ssl_benchmark_disease_diagnosis-TH-5Rskg",
   "language": "python",
   "name": "python3"
  },
  "language_info": {
   "codemirror_mode": {
    "name": "ipython",
    "version": 3
   },
   "file_extension": ".py",
   "mimetype": "text/x-python",
   "name": "python",
   "nbconvert_exporter": "python",
   "pygments_lexer": "ipython3",
   "version": "3.9.16"
  },
  "orig_nbformat": 4
 },
 "nbformat": 4,
 "nbformat_minor": 2
}
